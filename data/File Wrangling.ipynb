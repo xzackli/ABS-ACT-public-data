{
 "cells": [
  {
   "cell_type": "markdown",
   "metadata": {},
   "source": [
    "This is some file wrangling to produce some of the data products in this repository."
   ]
  },
  {
   "cell_type": "code",
   "execution_count": 4,
   "metadata": {},
   "outputs": [
    {
     "name": "stderr",
     "output_type": "stream",
     "text": [
      "/home/zequnl/Downloads/.conda/envs/ps/lib/python3.8/site-packages/healpy/fitsfunc.py:351: UserWarning: If you are not specifying the input dtype and using the default np.float64 dtype of read_map(), please consider that it will change in a future version to None as to keep the same dtype of the input file: please explicitly set the dtype if it is important to you.\n",
      "  warnings.warn(\n"
     ]
    },
    {
     "name": "stdout",
     "output_type": "stream",
     "text": [
      "Q rms = 199.675224, U rms = 191.583401\n",
      "Sigma is 0.000000 arcmin (0.000000 rad) \n",
      "-> fwhm is 0.000000 arcmin\n",
      "Sigma is 0.000000 arcmin (0.000000 rad) \n",
      "-> fwhm is 0.000000 arcmin\n",
      "Sigma is 0.000000 arcmin (0.000000 rad) \n",
      "-> fwhm is 0.000000 arcmin\n",
      "Sigma is 0.000000 arcmin (0.000000 rad) \n",
      "-> fwhm is 0.000000 arcmin\n",
      "Sigma is 0.000000 arcmin (0.000000 rad) \n",
      "-> fwhm is 0.000000 arcmin\n",
      "Sigma is 0.000000 arcmin (0.000000 rad) \n",
      "-> fwhm is 0.000000 arcmin\n"
     ]
    }
   ],
   "source": [
    "import numpy as np\n",
    "import matplotlib.pyplot as plt\n",
    "import healpy as hp\n",
    "import nawrapper as nw\n",
    "\n",
    "import absact_file_util as file_util\n",
    "from pathlib import Path  # this is Python 3\n",
    "\n",
    "map_dir = Path('data/private_maps')\n",
    "abs_q, abs_u, abs_mask, abs_q_wt, abs_u_wt = file_util.get_ABS_maps(\n",
    "    map_dir / 'abs')\n",
    "act_t, act_q, act_u, act_t_nwt, act_q_nwt, act_u_nwt = file_util.get_ACT_maps(\n",
    "    map_dir / 'act', freq='all')\n",
    "planck_i_1, planck_q_1, planck_u_1 = hp.read_map(\n",
    "    map_dir / 'planck' / 'planck_256_hm1.fits', field=(0,1,2), verbose=False)\n",
    "planck_i_2, planck_q_2, planck_u_2 = hp.read_map(\n",
    "    map_dir / 'planck' / 'planck_256_hm2.fits', field=(0,1,2), verbose=False)\n",
    "\n",
    "planck_mask_1 = hp.read_map(map_dir / 'planck' / 'planck_mask_1.fits', verbose=False)\n",
    "planck_mask_2 = hp.read_map(map_dir / 'planck' / 'planck_mask_2.fits', verbose=False)\n",
    "planck_mask_1_pol = hp.read_map(map_dir / 'planck' / 'planck_mask_1_pol.fits', verbose=False)\n",
    "planck_mask_2_pol = hp.read_map(map_dir / 'planck' / 'planck_mask_2_pol.fits', verbose=False)"
   ]
  },
  {
   "cell_type": "code",
   "execution_count": 5,
   "metadata": {},
   "outputs": [],
   "source": [
    "from astropy.table import Table\n",
    "\n",
    "tABS = Table([abs_q, abs_u, abs_mask, abs_q_wt, abs_u_wt], \n",
    "          names=('Q', 'U', 'mask', 'Q_weight', 'U_weight'))\n",
    "tABS.write('ABS.fits', format='fits')"
   ]
  },
  {
   "cell_type": "code",
   "execution_count": 6,
   "metadata": {},
   "outputs": [],
   "source": [
    "import healpy as hp"
   ]
  },
  {
   "cell_type": "code",
   "execution_count": 7,
   "metadata": {},
   "outputs": [
    {
     "data": {
      "image/png": "[encoded data removed]",
      "text/plain": [
       "<Figure size 612x388.8 with 2 Axes>"
      ]
     },
     "metadata": {
      "image/png": {
       "height": 382,
       "width": 601
      },
      "needs_background": "light"
     },
     "output_type": "display_data"
    }
   ],
   "source": [
    "clip = (abs_mask == 0.0)\n",
    "hp.mollview(clip, title='clip area')"
   ]
  },
  {
   "cell_type": "code",
   "execution_count": 8,
   "metadata": {},
   "outputs": [],
   "source": [
    "act_t[clip] = 0.0\n",
    "act_q[clip] = 0.0\n",
    "act_u[clip] = 0.0\n",
    "\n",
    "act_t_nwt[clip] = 0.0\n",
    "act_q_nwt[clip] = 0.0\n",
    "act_u_nwt[clip] = 0.0"
   ]
  },
  {
   "cell_type": "code",
   "execution_count": 1,
   "metadata": {},
   "outputs": [
    {
     "ename": "NameError",
     "evalue": "name 'np' is not defined",
     "output_type": "error",
     "traceback": [
      "\u001b[0;31m---------------------------------------------------------------------------\u001b[0m",
      "\u001b[0;31mNameError\u001b[0m                                 Traceback (most recent call last)",
      "\u001b[0;32m<ipython-input-1-9b883bfe09fe>\u001b[0m in \u001b[0;36m<module>\u001b[0;34m\u001b[0m\n\u001b[0;32m----> 1\u001b[0;31m \u001b[0mnp\u001b[0m\u001b[0;34m.\u001b[0m\u001b[0msum\u001b[0m\u001b[0;34m(\u001b[0m\u001b[0mABS\u001b[0m\u001b[0;34m[\u001b[0m\u001b[0;34m'mask'\u001b[0m\u001b[0;34m]\u001b[0m\u001b[0;34m)\u001b[0m \u001b[0;34m/\u001b[0m \u001b[0mlen\u001b[0m\u001b[0;34m(\u001b[0m\u001b[0mABS\u001b[0m\u001b[0;34m[\u001b[0m\u001b[0;34m'mask'\u001b[0m\u001b[0;34m]\u001b[0m\u001b[0;34m)\u001b[0m\u001b[0;34m\u001b[0m\u001b[0;34m\u001b[0m\u001b[0m\n\u001b[0m",
      "\u001b[0;31mNameError\u001b[0m: name 'np' is not defined"
     ]
    }
   ],
   "source": []
  },
  {
   "cell_type": "code",
   "execution_count": 9,
   "metadata": {},
   "outputs": [],
   "source": [
    "tACT = Table([act_t, act_q, act_u, act_t_nwt, act_q_nwt, act_u_nwt], \n",
    "          names=('I', 'Q', 'U', 'I_weight', 'Q_weight', 'U_weight'))\n",
    "tACT.write('data/maps/ACT.fits', format='fits', overwrite=True)"
   ]
  },
  {
   "cell_type": "code",
   "execution_count": 15,
   "metadata": {},
   "outputs": [],
   "source": [
    "tPlanck1 = Table([planck_i_1, planck_q_1, planck_u_1, planck_mask_1, planck_mask_1_pol], \n",
    "          names=('I', 'Q', 'U', 'I_mask', 'QU_mask'))\n",
    "tPlanck1.write('data/maps/Planck_hm1.fits', format='fits', overwrite=True)"
   ]
  },
  {
   "cell_type": "code",
   "execution_count": 16,
   "metadata": {},
   "outputs": [],
   "source": [
    "tPlanck2 = Table([planck_i_2, planck_q_2, planck_u_2, planck_mask_2, planck_mask_2_pol], \n",
    "          names=('I', 'Q', 'U', 'I_mask', 'QU_mask'))\n",
    "tPlanck2.write('data/maps/Planck_hm2.fits', format='fits', overwrite=True)"
   ]
  },
  {
   "cell_type": "code",
   "execution_count": null,
   "metadata": {},
   "outputs": [],
   "source": []
  },
  {
   "cell_type": "code",
   "execution_count": null,
   "metadata": {},
   "outputs": [],
   "source": []
  }
 ],
 "metadata": {
  "kernelspec": {
   "display_name": "Python 3 (ps)",
   "language": "python",
   "name": "ps"
  },
  "language_info": {
   "codemirror_mode": {
    "name": "ipython",
    "version": 3
   },
   "file_extension": ".py",
   "mimetype": "text/x-python",
   "name": "python",
   "nbconvert_exporter": "python",
   "pygments_lexer": "ipython3",
   "version": "3.8.1"
  }
 },
 "nbformat": 4,
 "nbformat_minor": 4
}
